{
 "cells": [
  {
   "cell_type": "code",
   "execution_count": 8,
   "id": "a4fdfede-e653-49d9-b58f-4bbf967b4801",
   "metadata": {},
   "outputs": [
    {
     "name": "stdin",
     "output_type": "stream",
     "text": [
      " 60 60 60\n"
     ]
    },
    {
     "name": "stdout",
     "output_type": "stream",
     "text": [
      "valide triangle\n"
     ]
    }
   ],
   "source": [
    "a, b, c = map(int, input().split())\n",
    "d=a+b+c\n",
    "if d==180:\n",
    "    print(\"valide triangle\")\n",
    "else:\n",
    "    print(\"invalide triangle\")"
   ]
  },
  {
   "cell_type": "code",
   "execution_count": 12,
   "id": "87f7be2a-f29e-4198-a5bd-8fbd689b55c8",
   "metadata": {},
   "outputs": [
    {
     "name": "stdin",
     "output_type": "stream",
     "text": [
      "enter the year:  2024\n"
     ]
    },
    {
     "name": "stdout",
     "output_type": "stream",
     "text": [
      "leap year!!!\n"
     ]
    }
   ],
   "source": [
    "n=int(input(\"enter the year: \"))\n",
    "if (n%4==0 and n%100!=0) or (n%400==0):\n",
    "    print(\"leap year!!!\")\n",
    "else:\n",
    "    print(\"not a leap year!!!\")"
   ]
  },
  {
   "cell_type": "code",
   "execution_count": 16,
   "id": "0a2d88e3-b839-4eb1-b66d-49d1b2532936",
   "metadata": {},
   "outputs": [
    {
     "name": "stdin",
     "output_type": "stream",
     "text": [
      "enter the range:  5\n",
      "enter the value 1: 5\n",
      "enter the value 2: 10\n",
      "enter the value 3: 17\n",
      "enter the value 4: 20\n",
      "enter the value 5: 33\n"
     ]
    },
    {
     "name": "stdout",
     "output_type": "stream",
     "text": [
      "even count:2\n",
      "odd count:3\n"
     ]
    }
   ],
   "source": [
    "n=int(input(\"enter the range: \"))\n",
    "count1=0\n",
    "count2=0\n",
    "for i in range(1,n+1):\n",
    "    m=map(int,input(f\"enter the value {i}:\").split())\n",
    "    if i%2==0:\n",
    "        count1+=1\n",
    "    else:\n",
    "        count2+=1\n",
    "print(f\"even count:{count1}\")\n",
    "print(f\"odd count:{count2}\")"
   ]
  },
  {
   "cell_type": "code",
   "execution_count": 19,
   "id": "15288fac-7731-466c-b0cb-e17009379180",
   "metadata": {},
   "outputs": [
    {
     "name": "stdout",
     "output_type": "stream",
     "text": [
      "choice 1 is converts celsius to fahrenheit\n",
      "choice 2 is converts fahrenheit to celsius\n"
     ]
    },
    {
     "name": "stdin",
     "output_type": "stream",
     "text": [
      "enter the choice:  2\n",
      "enter celsius:  25\n"
     ]
    },
    {
     "name": "stdout",
     "output_type": "stream",
     "text": [
      "fahrenheit:77.0°F\n"
     ]
    }
   ],
   "source": [
    "print(\"choice 1 is converts celsius to fahrenheit\")\n",
    "print(\"choice 2 is converts fahrenheit to celsius\")\n",
    "choice=int(input(\"enter the choice: \"))\n",
    "if choice==1:\n",
    "    a=float(input(\"enter fahrenheit: \"))\n",
    "    celsius=(a-32)*5/9\n",
    "    print(f\"celsius:{celsius}°C\")\n",
    "elif choice==2:\n",
    "    b=int(input(\"enter celsius: \"))\n",
    "    fahrenheit=(b*(9/5)+32)\n",
    "    print(f\"fahrenheit:{fahrenheit}°F\")\n",
    "else:\n",
    "    print(\"enter valide choice!!!\")"
   ]
  },
  {
   "cell_type": "code",
   "execution_count": 1,
   "id": "2f161c42-0371-4e9f-aba6-fd4ea4300ffe",
   "metadata": {},
   "outputs": [
    {
     "name": "stdin",
     "output_type": "stream",
     "text": [
      "enter the number:  12345\n"
     ]
    },
    {
     "name": "stdout",
     "output_type": "stream",
     "text": [
      "54321\n"
     ]
    }
   ],
   "source": [
    "n=input(\"enter the number: \")\n",
    "reverse=n[::-1]\n",
    "print(reverse)"
   ]
  },
  {
   "cell_type": "code",
   "execution_count": 8,
   "id": "7ace15df-56a1-42dc-80d1-d542cd12e2d7",
   "metadata": {},
   "outputs": [
    {
     "name": "stdin",
     "output_type": "stream",
     "text": [
      "enter number1:  10\n",
      "enter number2:  5\n"
     ]
    },
    {
     "name": "stdout",
     "output_type": "stream",
     "text": [
      "enter the operators: + , - , * , / , %\n"
     ]
    },
    {
     "name": "stdin",
     "output_type": "stream",
     "text": [
      "enter the operator:  *\n"
     ]
    },
    {
     "name": "stdout",
     "output_type": "stream",
     "text": [
      "result:  50\n"
     ]
    }
   ],
   "source": [
    "num1=int(input(\"enter number1: \"))\n",
    "num2=int(input(\"enter number2: \"))\n",
    "print(\"enter the operators: + , - , * , / , %\")\n",
    "op=input(\"enter the operator: \")\n",
    "match op:\n",
    "    case '+':\n",
    "        print(\"result: \",num1+num2)\n",
    "    case '-':\n",
    "        print(\"result: \",num1-num2)\n",
    "    case '*':\n",
    "        print(\"result: \",num1*num2)\n",
    "    case '/':\n",
    "        print(\"result: \",num1/num2)\n",
    "    case '%':\n",
    "        print(\"result: \",num1%num2)\n",
    "    case _:\n",
    "        print(\"enter valide option\")"
   ]
  },
  {
   "cell_type": "code",
   "execution_count": null,
   "id": "068f8121-deaa-485e-87d2-567599bba38c",
   "metadata": {},
   "outputs": [],
   "source": []
  },
  {
   "cell_type": "code",
   "execution_count": null,
   "id": "c8eb4381-e1c3-458c-bfa6-983de472e729",
   "metadata": {},
   "outputs": [],
   "source": []
  }
 ],
 "metadata": {
  "kernelspec": {
   "display_name": "Python 3 (ipykernel)",
   "language": "python",
   "name": "python3"
  },
  "language_info": {
   "codemirror_mode": {
    "name": "ipython",
    "version": 3
   },
   "file_extension": ".py",
   "mimetype": "text/x-python",
   "name": "python",
   "nbconvert_exporter": "python",
   "pygments_lexer": "ipython3",
   "version": "3.12.7"
  }
 },
 "nbformat": 4,
 "nbformat_minor": 5
}
